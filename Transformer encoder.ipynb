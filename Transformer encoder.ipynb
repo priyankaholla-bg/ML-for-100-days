{
  "cells": [
    {
      "cell_type": "code",
      "execution_count": null,
      "metadata": {
        "id": "zwFnJsE6vjf8"
      },
      "outputs": [],
      "source": [
        "import torch\n",
        "import torch.nn as nn\n",
        "import math"
      ]
    },
    {
      "cell_type": "code",
      "source": [
        "class InputEmbeddings(nn.Module):\n",
        "\n",
        "  def __init__(self,d_model:int, vocab_size:int):\n",
        "    super().__init()\n",
        "    self.d_model = d_model #dimension\n",
        "    self.vocab_size = vocab_size\n",
        "    self.embedding = nn.Embedding(vocab_size, d_model)\n",
        "\n",
        "  def forward(self, x):\n",
        "    return self.embedding(x) * math.sqrt(self.d_model)\n"
      ],
      "metadata": {
        "id": "rGXSNhs6QRRG"
      },
      "execution_count": null,
      "outputs": []
    },
    {
      "cell_type": "code",
      "source": [
        "class PositionalEncoding(nn.Module):\n",
        "  #seq_len is max sentence length as each word needs a pos enc of size 512(d_model), drpout is to prevent overfitting\n",
        "  def __init__(self, d_model: int, seq_len: int, dropout: float) -> None:\n",
        "    super().__init__()\n",
        "    self.d_model = d_model\n",
        "    self.seq_len = seq_len\n",
        "    self.dropout = nn.Dropout(dropout)\n",
        "\n",
        "    #create a [] of shape seq_len x d_model\n",
        "    pe=torch.zeros(seq_len, d_model)\n",
        "\n",
        "     #create a vector of shape (seq_len,1) for position\n",
        "    position = torch.arange(0,seq_len, d_type = torch.float).unsqueeze(1) #creates tensor([[0],[1],.....[511]]) col vector\n",
        "    div_term = torch.exp(torch.arange(0,d_model,2).float() * (-math.log(10000.0) / d_model)) #term = e^-(2i(log1000)/d) minus cuz we want the exp to decrease as pos/term\n",
        "\n",
        "    #apply sin to even positions\n",
        "    pe[:,0::2] = torch.sin(position*div_term)\n",
        "    pe[:, 1::2] = torch.cos(position*div_term)\n",
        "\n",
        "    #for batches of sentences\n",
        "    pe = pe.pe.unsqueeze(0) #(1, seq_len, d_model)\n",
        "    self.register_buffer('pe', pe)\n",
        "\n",
        "\n",
        "  def forward(self, x):\n",
        "    x = x+(self.pe[:, :x.shape[1], :]).requires_grad_(False)\n",
        "    return self.dropout(x)\n",
        "\n"
      ],
      "metadata": {
        "id": "XpETaUoxTjcs"
      },
      "execution_count": null,
      "outputs": []
    },
    {
      "cell_type": "code",
      "source": [
        "class LayerNormalization(nn.Module):\n",
        "  def __init__(self,eps: float=10**-6) -> None:\n",
        "    super().__init__()\n",
        "    self.eps = eps\n",
        "    self.alpha = nn.Parameter(torch.ones(1)) #multiplied\n",
        "    self.bias= nn.Parameter(torch.zeros(1)) #added\n",
        "\n",
        "  def forward(self,x):\n",
        "    mean  = x.mean(dim=-1, keepdim=True) # something like [[batch,seq_len,512]]\n",
        "    std = x.std(dim=-1, keepdim=True)\n",
        "    return self.alpha * (x-mean) / (std+self.eps) + self.bias"
      ],
      "metadata": {
        "id": "mvJkPHy8hgoo"
      },
      "execution_count": null,
      "outputs": []
    },
    {
      "cell_type": "code",
      "source": [
        "class FeedForwardBlock(nn.Module):\n",
        "  def __init__(self, d_model: int, d_ff: int, dropout: float) -> None:\n",
        "    super().__init__()\n",
        "    self.linear_1 = nn.Linear(d_model, d_ff) #W1 and b1\n",
        "    self.dropout = nn.Dropout(dropout)\n",
        "    self.linear_2 = nn.Linear(d_ff, d_model) #W2 and b2\n",
        "\n",
        "  def forward(self,x):\n",
        "    return self.linear_2(self.dropout(torch.relu(self.linear_1(x))))\n",
        "\n"
      ],
      "metadata": {
        "id": "M8TUGp7Wror6"
      },
      "execution_count": null,
      "outputs": []
    },
    {
      "cell_type": "code",
      "source": [
        "#multihead attention\n",
        "class MultiheadAttentionBlock(nn.Module):\n",
        "  def __init__(self, d_model: int, h: int, dropout: float) -> None:\n",
        "    super().__init__()\n",
        "    self.d_model = d_model\n",
        "    self.h = h\n",
        "    assert d_model % h ==0, \"d_model is not divisible by h\"\n",
        "\n",
        "    self.d_k = d_model // h\n",
        "    self.W_q = nn.Linear(d_model, d_model)\n",
        "    self.W_k = nn.Linear(d_model, d_model)\n",
        "    self.W_v = nn.Linear(d_model, d_model)\n",
        "    self.W_o = nn.Linear(d_model, d_model)\n",
        "\n",
        "    self.dropout = nn.Dropout(dropout)\n",
        "\n",
        "  @staticmethod\n",
        "  def attention(query, key, value, mask, dropout: nn.Dropout):\n",
        "    d_k=query.shape[-1]\n",
        "    #(Batch, h, seq_len, d_k) --> (Batch, h, seq_len, seq_len)\n",
        "    attention_scores = (query @ key.transpose(-2,-1)) / math.sqrt(d_k)\n",
        "    if mask is not None:\n",
        "      attention_scores.masked_fill_(mask == 0,-1e9)\n",
        "    attention_scores = attention_scores.softmax(dim=-1) # (batch, h, seq_len, seq_len)\n",
        "\n",
        "    if dropout is not None:\n",
        "      attention_scores = dropout(attention_scores)\n",
        "\n",
        "    return (attention_scores @ value), attention_scores\n",
        "\n",
        "\n",
        "  def forward(self, q, k, v, mask):\n",
        "    query = self.W_q(q)\n",
        "    key = self.W_k(k)\n",
        "    value = self.W_v(v)\n",
        "\n",
        "    query = query.view(query.shape[0], query.shape[1],self.h, self.d_k).transpose(1,2)\n",
        "    key = key.view(query.shape[0], query.shape[1],self.h, self.d_k).transpose(1,2)\n",
        "    value = value.view(query.shape[0], query.shape[1],self.h, self.d_k).transpose(1,2)\n",
        "\n",
        "    x, self.attention_scores = MultiheadAttentionBlock.attention(query, key, value, mask, self.dropout)\n",
        "\n",
        "    #Now concat all heads\n",
        "    # (Batch, h, seq, d_k) => (Batch, seq, h, d_k) => (Batch, seq, d_model)\n",
        "    x = x.transpose(1,2).contiguous().view(x.shape[0], -1, self.h*self.d_k)\n",
        "\n",
        "    return self.W_o(x)\n"
      ],
      "metadata": {
        "id": "pLei-VGnE_SJ"
      },
      "execution_count": null,
      "outputs": []
    },
    {
      "cell_type": "code",
      "source": [
        "class ResidualConnection(nn.Module):\n",
        "  def __init__(self, dropout: float)->None:\n",
        "    super().__init__()\n",
        "    self.dropout = nn.Dropout(dropout)\n",
        "    self.norm = LayerNormalization()\n",
        "\n",
        "  def forward(self, x, sublayer):\n",
        "    return x + self.dropout(sublayer(self.norm(x)))\n",
        "\n"
      ],
      "metadata": {
        "id": "Z8DvoOcQoInF"
      },
      "execution_count": null,
      "outputs": []
    },
    {
      "cell_type": "code",
      "source": [
        "class EncoderBlock(nn.Module):\n",
        "  def __init__(self, self_attention_block:MultiheadAttentionBlock, feed_forward_block: FeedForwardBlock, dropout: float)->None:\n",
        "    super().__init__()\n",
        "    self.self_attention_block = self_attention_block\n",
        "    self.feed_forward_block = feed_forward_block\n",
        "    self.residual_connections = nn.ModuleList([ResidualConnection(dropout) for _ in range(2)])\n",
        "#src_mask - to stop padding words from interacting with opther words\n",
        "  def forward(self, x, src_mask):\n",
        "    x = self.residual_connections[0](x, lambda x: self.self_attention_block(x, x, x, src_mask))\n",
        "    x = self.residual_connections[1](x, self.feed_forward_block)\n",
        "    return x"
      ],
      "metadata": {
        "id": "kZRDLh1Zyidz"
      },
      "execution_count": null,
      "outputs": []
    },
    {
      "cell_type": "code",
      "source": [
        "class Encoder(nn.Module):\n",
        "  def __init__(self, layers: nn.ModuleList) -> None:\n",
        "    super().__init__()\n",
        "    self.layers = layers\n",
        "    self.norm = LayerNormalization()\n",
        "\n",
        "  def forward(self, x, mask):\n",
        "    for layer in self.layers:\n",
        "      x = layer(x, mask)\n",
        "    return self.norm(x)"
      ],
      "metadata": {
        "id": "BT27P4C_0vyW"
      },
      "execution_count": null,
      "outputs": []
    }
  ],
  "metadata": {
    "colab": {
      "provenance": []
    },
    "kernelspec": {
      "display_name": "Python 3",
      "name": "python3"
    }
  },
  "nbformat": 4,
  "nbformat_minor": 0
}
